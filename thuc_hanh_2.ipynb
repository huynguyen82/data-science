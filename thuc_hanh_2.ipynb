{
 "cells": [
  {
   "cell_type": "code",
   "execution_count": 38,
   "metadata": {},
   "outputs": [
    {
     "name": "stdout",
     "output_type": "stream",
     "text": [
      "<class 'pandas.core.frame.DataFrame'>\n",
      "RangeIndex: 231176 entries, 0 to 231175\n",
      "Data columns (total 6 columns):\n",
      " #   Column          Non-Null Count   Dtype         \n",
      "---  ------          --------------   -----         \n",
      " 0   Date            231176 non-null  datetime64[ns]\n",
      " 1   Country/Region  231176 non-null  object        \n",
      " 2   Province/State  231176 non-null  object        \n",
      " 3   Confirmed       231176 non-null  int64         \n",
      " 4   Recovered       231176 non-null  float64       \n",
      " 5   Deaths          231176 non-null  int64         \n",
      "dtypes: datetime64[ns](1), float64(1), int64(2), object(2)\n",
      "memory usage: 10.6+ MB\n"
     ]
    }
   ],
   "source": [
    "# load data\n",
    "import pandas as pd\n",
    "covid=pd.read_csv('data_science/covid.csv')\n",
    "covid=covid.fillna(0)\n",
    "# Convert cột Date sang kiểu ngày tháng \n",
    "covid.Date=pd.to_datetime(covid['Date'])\n",
    "covid.info()"
   ]
  },
  {
   "cell_type": "code",
   "execution_count": 39,
   "metadata": {},
   "outputs": [],
   "source": [
    "# Biểu đồ ca nhiễm toàn thế giới trong năm nhập vào\n",
    "nam=input()\n",
    "nam=int(nam)\n",
    "country=input() # yêu cầu người dùng nhập tên nước muốn xem dữ liêu"
   ]
  },
  {
   "cell_type": "code",
   "execution_count": 40,
   "metadata": {},
   "outputs": [
    {
     "name": "stdout",
     "output_type": "stream",
     "text": [
      "[9.9270000e+03 8.6030000e+04 8.7040300e+05 3.2775690e+06 6.1800610e+06\n",
      " 1.0472385e+07 1.7590145e+07 2.5532930e+07 3.4029080e+07 4.6140588e+07\n",
      " 6.3386344e+07 8.3753075e+07]\n"
     ]
    }
   ],
   "source": [
    "# \n",
    "import numpy as np\n",
    "# khoi tạo mảng 12 giá trị tương ứng với 12 tháng, giá trị ban đầu là 0\n",
    "np_covid=covid.to_numpy()\n",
    "confirmed=np.zeros(12)\n",
    "deaths=np.zeros(12)\n",
    "resolvered=np.zeros(12)\n",
    "for ngaythang,nuoc,tinh,nhiem,khoi,tuvong in np_covid:\n",
    "    #for thang in range(1,13):        \n",
    "    if ngaythang.year==nam  and ngaythang.is_month_end: # Nếu năm nhập vào trung với năm của hàng tương ứng trong bảng covid\n",
    "        confirmed[ngaythang.month-1]+=nhiem \n",
    "        deaths[ngaythang.month-1]+=tuvong\n",
    "        resolvered[ngaythang.month-1]+=khoi   \n",
    "print(confirmed)"
   ]
  },
  {
   "cell_type": "code",
   "execution_count": 41,
   "metadata": {},
   "outputs": [
    {
     "data": {
      "text/plain": [
       "<matplotlib.legend.Legend at 0x28c2bc57d90>"
      ]
     },
     "execution_count": 41,
     "metadata": {},
     "output_type": "execute_result"
    },
    {
     "data": {
      "image/png": "[encoded data removed]",
      "text/plain": [
       "<Figure size 432x288 with 1 Axes>"
      ]
     },
     "metadata": {
      "needs_background": "light"
     },
     "output_type": "display_data"
    }
   ],
   "source": [
    "# ve do thị\n",
    "import matplotlib.pyplot as plt\n",
    "plt.plot(confirmed,'r',label='Số ca nhiễm')\n",
    "plt.plot(deaths,'b--',label='Số ca tử vong')\n",
    "plt.plot(resolvered,'g',label='Số ca hồi phục')\n",
    "plt.legend()\n",
    "#print(nhiem)"
   ]
  }
 ],
 "metadata": {
  "interpreter": {
   "hash": "ef7f9a8012d9131766e31894c279374cc63c73121ed4db3b9e67a294a4bf0e74"
  },
  "kernelspec": {
   "display_name": "Python 3.9.7 ('base')",
   "language": "python",
   "name": "python3"
  },
  "language_info": {
   "codemirror_mode": {
    "name": "ipython",
    "version": 3
   },
   "file_extension": ".py",
   "mimetype": "text/x-python",
   "name": "python",
   "nbconvert_exporter": "python",
   "pygments_lexer": "ipython3",
   "version": "3.9.7"
  },
  "orig_nbformat": 4
 },
 "nbformat": 4,
 "nbformat_minor": 2
}
