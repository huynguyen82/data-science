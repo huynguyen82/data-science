{
 "cells": [
  {
   "cell_type": "markdown",
   "metadata": {},
   "source": [
    "***THƯ VIỆN PANDAS CƠ BẢN***\n",
    "\n",
    "**1. Cài đặt và khai báo**\n",
    "\n",
    "* Cú pháp khai báo: Lệnh sau thực hiện khai báo sử dụng thư viện pandas và gán nhãn thư viện này thành \"pd\"\n",
    "\n",
    "    import pandas as pd\n",
    "\n",
    "\n",
    "**2. Series trong pandas**\n",
    "\n",
    "    Trong pands có hai cấu trúc dữ liệu cơ bản là series và dataframe. Trong đó kiểu series có thể hình dụng tương tự kiểu Dictionary tức chỉ gồm 2 cột key và value. Trong khi đó Dataframe có thể tưởng tượng như bảng dữ liệu nhiều cột như excel.  \n",
    "    Chúng ta có thể sử dụng các cách thức làm việc của Dictionary với Series trong Pandas.\n",
    "\n",
    "**2.1. Khai báo và truy xuất**"
   ]
  },
  {
   "cell_type": "code",
   "execution_count": 19,
   "metadata": {},
   "outputs": [
    {
     "name": "stdout",
     "output_type": "stream",
     "text": [
      "Dữ liệu trong series đã nhập vào:\n",
      "a    3\n",
      "b    2\n",
      "c    1\n",
      "d    4\n",
      "dtype: int64\n",
      "b    2\n",
      "c    1\n",
      "dtype: int64\n"
     ]
    }
   ],
   "source": [
    "# \n",
    "# Khai báo và khởi tạo 1 series với pandas\n",
    "import pandas as pd \n",
    "vd_series=pd.Series([3,2,1,4],index=['a','b','c','d'])\n",
    "print('Dữ liệu trong series đã nhập vào:\\n{0}'.format(vd_series))\n",
    "print(vd_series[[1,2]])"
   ]
  },
  {
   "cell_type": "code",
   "execution_count": 10,
   "metadata": {},
   "outputs": [
    {
     "name": "stdout",
     "output_type": "stream",
     "text": [
      "3\n",
      "2\n",
      "1\n",
      "4\n",
      "Truy vấn theo từng bản ghi\n",
      "('a', 3)\n",
      "('b', 2)\n",
      "('c', 1)\n",
      "('d', 4)\n",
      "Key,Value: a,3\n",
      "Key,Value: b,2\n",
      "Key,Value: c,1\n",
      "Key,Value: d,4\n"
     ]
    }
   ],
   "source": [
    "# Đọc tất cả các keys (trường khóa) trong series\n",
    "keys=vd_series.keys()\n",
    "# Tuy vấn giá trị của 1 key tương ứng trong series\n",
    "for key in keys:\n",
    "    # in ra nghia cua tu tuong ưng\n",
    "    print(vd_series[key])\n",
    "# Liệt kê tất cả các giá trị (từ bộ key:value) trong series)\n",
    "print(\"Truy vấn theo từng bản ghi\")\n",
    "for item in vd_series.items(): \n",
    "# biens item chưa dữ liệu của từng dòng, tức là item=\"key:value\"\n",
    "    print(item)\n",
    "# Có thể tách key và value khi sử dụng vòng for\n",
    "for tu,nghia in vd_series.items():\n",
    "    print('Key,Value: {0},{1}'.format(tu,nghia))"
   ]
  },
  {
   "cell_type": "code",
   "execution_count": 21,
   "metadata": {},
   "outputs": [
    {
     "data": {
      "image/png": "[encoded data removed]",
      "text/plain": [
       "<Figure size 432x288 with 1 Axes>"
      ]
     },
     "metadata": {
      "needs_background": "light"
     },
     "output_type": "display_data"
    }
   ],
   "source": [
    "# Có thể vẽ biểu đồ bằng cách truyền trực tiếp 1 series vào hàm plot. Kho đó keys sẽ là trung hoành và values sẽ là trục tung của hệ 2D\n",
    "import matplotlib.pyplot as plt\n",
    "plt.plot(vd_series)\n",
    "plt.title('Vẽ biểu đồ trực tiếp trên 1 series')\n",
    "plt.xlabel('Các keys được sử dụng như trục x')\n",
    "plt.ylabel('Các Values được sử dụng như trục y')\n",
    "plt.show()"
   ]
  },
  {
   "cell_type": "markdown",
   "metadata": {},
   "source": [
    "***2.2. Truy vấn series với các cú pháp như numpy array***\n",
    "\n",
    "Series cho phép truy vấn sử dụng các giá trị key hoặc thứ tự dòng trong series để định dang các bản ghi được truy vấn"
   ]
  },
  {
   "cell_type": "code",
   "execution_count": 22,
   "metadata": {},
   "outputs": [
    {
     "name": "stdout",
     "output_type": "stream",
     "text": [
      "a    3\n",
      "b    2\n",
      "c    1\n",
      "dtype: int64\n"
     ]
    }
   ],
   "source": [
    "# Truy vẫn kiểu clicing sử dụng keys:\n",
    "# Liệt kê các dòng có khóa từ giá trị \"a\" đến \"c\"\n",
    "print(vd_series['a':'c'])"
   ]
  },
  {
   "cell_type": "code",
   "execution_count": 27,
   "metadata": {},
   "outputs": [
    {
     "name": "stdout",
     "output_type": "stream",
     "text": [
      "a    3\n",
      "b    2\n",
      "c    1\n",
      "dtype: int64\n"
     ]
    }
   ],
   "source": [
    "# Truy vẫn kiểu clicing sử dụng vị trí bản ghi trong series:\n",
    "# Liệt kê các dòng có từ vị trí \"0\" đến \"2\"\n",
    "print(vd_series[0:3])"
   ]
  },
  {
   "cell_type": "markdown",
   "metadata": {},
   "source": [
    "***Series cho phép sử dụng kỹ thuật masking tương tự numpy***"
   ]
  },
  {
   "cell_type": "code",
   "execution_count": 16,
   "metadata": {},
   "outputs": [
    {
     "name": "stdout",
     "output_type": "stream",
     "text": [
      "Dữ liệu gốc ban đầu\n",
      " a    3\n",
      "b    2\n",
      "c    1\n",
      "d    4\n",
      "dtype: int64\n",
      "Các bản ghi có value <3\n",
      " a    3\n",
      "dtype: int64\n"
     ]
    }
   ],
   "source": [
    "# Liệt kê tất cả các bản ghi có value nhỏ hơn 3\n",
    "x=vd_series[vd_series==3]\n",
    "print('Dữ liệu gốc ban đầu\\n',vd_series)\n",
    "print('Các bản ghi có value <3\\n',x)"
   ]
  },
  {
   "cell_type": "markdown",
   "metadata": {},
   "source": [
    "***Lấy các bản ghi ở các vị trí hoặc có giá trị key cụ thể***"
   ]
  },
  {
   "cell_type": "code",
   "execution_count": 35,
   "metadata": {},
   "outputs": [
    {
     "name": "stdout",
     "output_type": "stream",
     "text": [
      "Lấy theo vị trí cụ thể\n",
      " a    3\n",
      "c    1\n",
      "dtype: int64\n",
      "Lấy theo giá trị cụ thể của key\n",
      " a    3\n",
      "c    1\n",
      "dtype: int64\n"
     ]
    }
   ],
   "source": [
    "# Lấy bản ghi ở vị trí thứ 0 và thứ 2 trong series\n",
    "print('Lấy theo vị trí cụ thể\\n',vd_series[[0,2]])\n",
    "# lấy bản ghi có key=a và key=c trong series\n",
    "print('Lấy theo giá trị cụ thể của key\\n',vd_series[[0,1]])"
   ]
  },
  {
   "cell_type": "markdown",
   "metadata": {},
   "source": [
    "***Nhập nhằng trong việc indexing bằng vị trí dòng và giá trị của key***\n",
    "\n",
    "Việc cho phép clicing bằng cả vị trí dòng và giá trị của key nên có thể dẫn đến nhập nhằng khi trường key có kiểu number. Khi đó nên sử dụng dụng các thuộc tính .loc và .iloc của pandas để chỉ rõ dàng việc truy vấn theo vị hay theo giá trị của key (trù khi người lập trình biết chính xác kiểu dữ liệu và cách thực hiện clicing)\n",
    "\n",
    "**.loc yêu cầu python truy vấn theo giá trị của key**"
   ]
  },
  {
   "cell_type": "code",
   "execution_count": 20,
   "metadata": {},
   "outputs": [
    {
     "data": {
      "text/plain": [
       "a    3\n",
       "b    2\n",
       "c    1\n",
       "dtype: int64"
      ]
     },
     "execution_count": 20,
     "metadata": {},
     "output_type": "execute_result"
    }
   ],
   "source": [
    "# lấy các bản ghi có giá trị của key từ 'a' đến 'c'\n",
    "vd_series.loc['a':'c']"
   ]
  },
  {
   "cell_type": "markdown",
   "metadata": {},
   "source": [
    "**.iloc yêu cầu python truy vấn theo vị trí bản ghi tro series**"
   ]
  },
  {
   "cell_type": "code",
   "execution_count": 21,
   "metadata": {},
   "outputs": [
    {
     "data": {
      "text/plain": [
       "b    2\n",
       "c    1\n",
       "dtype: int64"
      ]
     },
     "execution_count": 21,
     "metadata": {},
     "output_type": "execute_result"
    }
   ],
   "source": [
    "# lấy các dòng từ vị trí 1 đến đến 2 trong series\n",
    "vd_series.iloc[1:3]"
   ]
  },
  {
   "cell_type": "markdown",
   "metadata": {},
   "source": [
    "**3. Dataframe**\n",
    "\n",
    "    Dataframe là 1 bảng dữ liệu nhiều cột, có thể hình dung tương tự bảng excel trong Microsoft Excel."
   ]
  },
  {
   "cell_type": "code",
   "execution_count": 15,
   "metadata": {},
   "outputs": [
    {
     "name": "stdout",
     "output_type": "stream",
     "text": [
      "<class 'pandas.core.frame.DataFrame'>\n",
      "RangeIndex: 825 entries, 0 to 824\n",
      "Data columns (total 2 columns):\n",
      " #   Column  Non-Null Count  Dtype         \n",
      "---  ------  --------------  -----         \n",
      " 0   Date    825 non-null    datetime64[ns]\n",
      " 1   Price   825 non-null    float64       \n",
      "dtypes: datetime64[ns](1), float64(1)\n",
      "memory usage: 13.0 KB\n",
      "None\n"
     ]
    },
    {
     "data": {
      "text/plain": [
       "[<matplotlib.lines.Line2D at 0x1fcc23cc280>]"
      ]
     },
     "execution_count": 15,
     "metadata": {},
     "output_type": "execute_result"
    },
    {
     "data": {
      "image/png": "[encoded data removed]",
      "text/plain": [
       "<Figure size 432x288 with 1 Axes>"
      ]
     },
     "metadata": {
      "needs_background": "light"
     },
     "output_type": "display_data"
    }
   ],
   "source": [
    "# VD vẽ toàn bộ dữ liệu 2 cột\n",
    "# Làm việc giá vàng\n",
    "# Gia vàng là 1 dataframe nhưng chỉ có 2 cột => kiểu series\n",
    "# Cột 0 là date\n",
    "# Cột 1 là giá vàng\n",
    "# Lệnh sau đọc toàn bộ dữ liệu giá vàng các nam\n",
    "giavang=pd.read_csv('data_science/gold_price.csv')\n",
    "# Chuyển kiểu cột 0 sang kiểu datetime\n",
    "giavang.Date=pd.to_datetime(giavang['Date'])\n",
    "giavang.set_index(giavang.Date)\n",
    "print(giavang.info())\n",
    "import matplotlib.pyplot as plt\n",
    "# vẽ biểu đồ giá vàng trên toàn bộ dữ liêu\n",
    "#Hy vọng: trục x là date, trục y là giá\n",
    "plt.plot(giavang.Date,giavang.Price)\n"
   ]
  }
 ],
 "metadata": {
  "interpreter": {
   "hash": "ef7f9a8012d9131766e31894c279374cc63c73121ed4db3b9e67a294a4bf0e74"
  },
  "kernelspec": {
   "display_name": "Python 3.9.7 ('base')",
   "language": "python",
   "name": "python3"
  },
  "language_info": {
   "codemirror_mode": {
    "name": "ipython",
    "version": 3
   },
   "file_extension": ".py",
   "mimetype": "text/x-python",
   "name": "python",
   "nbconvert_exporter": "python",
   "pygments_lexer": "ipython3",
   "version": "3.9.7"
  },
  "orig_nbformat": 4
 },
 "nbformat": 4,
 "nbformat_minor": 2
}
