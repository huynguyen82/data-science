{
 "cells": [
  {
   "cell_type": "markdown",
   "metadata": {},
   "source": [
    "**Mục tiêu: Xây dựng model dự đoán nội dung 1 comment là \"Khen\", \"Chê\" hay là \"Câu hỏi\"**\n",
    "\n",
    "(1) Dữ liệu đầu vào để huấn luyện model cho tại: data_science/comment_dtvt.csv  \n",
    "(2) Dữ liệu dự đoán tại: data_science/comment_thcn.csv  \n",
    "\n",
    "Yêu cầu: \n",
    "* Xây dựng model gán nhãn cho các comment với 3 nhãn: Khen, Chê, Câu hỏi sử dụng bộ dữ liệu huấn luyện (1)  \n",
    "* Viết chương trình liệt kê Tên những người Khen,Chê hoặc Đặt câu hỏi dựa vào dữ liệu trong (2)\n"
   ]
  },
  {
   "cell_type": "code",
   "execution_count": 15,
   "metadata": {},
   "outputs": [
    {
     "name": "stdout",
     "output_type": "stream",
     "text": [
      "<class 'pandas.core.frame.DataFrame'>\n",
      "RangeIndex: 23 entries, 0 to 22\n",
      "Data columns (total 3 columns):\n",
      " #   Column     Non-Null Count  Dtype \n",
      "---  ------     --------------  ----- \n",
      " 0   comment    23 non-null     object\n",
      " 1   sentiment  23 non-null     object\n",
      " 2   label      23 non-null     int64 \n",
      "dtypes: int64(1), object(2)\n",
      "memory usage: 680.0+ bytes\n",
      "None\n",
      "<class 'pandas.core.frame.DataFrame'>\n",
      "RangeIndex: 9 entries, 0 to 8\n",
      "Data columns (total 2 columns):\n",
      " #   Column   Non-Null Count  Dtype \n",
      "---  ------   --------------  ----- \n",
      " 0   comment  9 non-null      object\n",
      " 1   name     9 non-null      object\n",
      "dtypes: object(2)\n",
      "memory usage: 272.0+ bytes\n",
      "None\n"
     ]
    }
   ],
   "source": [
    "# Bước 1: Load dữ liệu từ csv\n",
    "import pandas as pd\n",
    "data = pd.read_csv('data_science/comment_dtvt2.csv',delimiter='\\t',encoding='utf-8')\n",
    "print(data.info())"
   ]
  },
  {
   "cell_type": "code",
   "execution_count": 27,
   "metadata": {},
   "outputs": [
    {
     "data": {
      "text/plain": [
       "<bound method DataFrame.info of                                               comment sentiment  label\n",
       "0                                    Thật tuyệt vời ạ      Khen      1\n",
       "1   Admin có thể chia sẻ chuyên sâu cho em về chuy...       Hỏi      2\n",
       "2     Tuyệt quá , ngành mình thực sự rất chất lượng ạ      Khen      1\n",
       "3          Cơ hội việc làm sau khi tốt nghiệp rất cao      Khen      1\n",
       "4   Hiện em đang tìm hiểu về ngành điện tử viễn th...       Hỏi      2\n",
       "5   Em muốn tìm hiểu thêm về ngành điện tử viễn th...       Hỏi      2\n",
       "6   Năm nay em đang học lớp 12 . Em đang tính sẽ h...       Hỏi      2\n",
       "7   Hiện em đang muốn vào ngành điện tử viễn thông...       Hỏi      2\n",
       "8   Năm nay em đăng học lớp 12 và có tìm hiểu về t...       Hỏi      2\n",
       "9   Mình tham khảo được chỉ phí học tập tại đây kh...      Khen      1\n",
       "10  Bài viết rất ý nghĩa ạ, đã giúp e giải đáp đượ...      Khen      1\n",
       "11  Thầy cô vui tính, thân thiện,nhiệt huyết với s...      Khen      1\n",
       "12  Tôi đang theo học ngành Điện tử viễn thông – K...      Khen      1\n",
       "13                      Bài viết rất hay và ý nghĩa ạ      Khen      1\n",
       "14  Bài viết rất hay và ý nghĩa em cảm ơn tất cả c...      Khen      1\n",
       "15  Bài viết chung chung quá không rõ dàng chỗ làm...       Chê      3\n",
       "16  giáo viên giảng dạy chuyên môn không cao, khó gần       Chê      3\n",
       "17  Bài giảng giáo viên dạy trên lớp đã cũ quá rồi...       Chê      3\n",
       "18  Lớp học thì được có vài bạn, học thấy không có...       Chê      3\n",
       "19  Thầy dày suốt ngày cho nghỉ và bắt đọc tài liệ...       Chê      3\n",
       "20           Học phí qua cao so với những gì được học       Chê      3\n",
       "21   Mình ra trường mấy năm rồi mà chưa xin được việc       Chê      3\n",
       "22            nghề này lương rất thấp đừng có vào học       Chê      3>"
      ]
     },
     "execution_count": 27,
     "metadata": {},
     "output_type": "execute_result"
    }
   ],
   "source": [
    "X_train=data['comment']\n",
    "y_train=data['label']\n",
    "labels=['Khen','Hỏi','Chê']\n",
    "data.info"
   ]
  },
  {
   "cell_type": "code",
   "execution_count": 23,
   "metadata": {},
   "outputs": [],
   "source": [
    "# Khai model nhận dạng văn bản sử dụng:\n",
    "# TfidfVectorizer làm công cụ biến đổi 1 corpus (văn bản) đầu vào thành 1 vecror đặc trung dựa vào việc đếm tần xuất các từ\n",
    "# MultinomialNB làm model phân loại\n",
    "from sklearn.feature_extraction.text import TfidfVectorizer\n",
    "from sklearn.naive_bayes import MultinomialNB\n",
    "from sklearn.pipeline import make_pipeline\n",
    "# Model gồm 2 module: Dữ liệu văn bản được đưa vào module 1 là module trích chọn đặc trưng\n",
    "# Module 2 là module mô hinh hóa\n",
    "model = make_pipeline(TfidfVectorizer(), MultinomialNB())"
   ]
  },
  {
   "cell_type": "code",
   "execution_count": 24,
   "metadata": {},
   "outputs": [
    {
     "data": {
      "text/plain": [
       "Pipeline(steps=[('tfidfvectorizer', TfidfVectorizer()),\n",
       "                ('multinomialnb', MultinomialNB())])"
      ]
     },
     "execution_count": 24,
     "metadata": {},
     "output_type": "execute_result"
    }
   ],
   "source": [
    "# Huấn luyện model\n",
    "model.fit(X_train,y_train)"
   ]
  },
  {
   "cell_type": "code",
   "execution_count": 34,
   "metadata": {},
   "outputs": [
    {
     "name": "stdout",
     "output_type": "stream",
     "text": [
      "Nội dung của comment thuộc loại: Chê\n"
     ]
    }
   ],
   "source": [
    "# Thử nghiệm model sau huấn luyện với 1 câu văn bản đầu vào\n",
    "dau_vao=['Ngành này học chán lắm']\n",
    "ket_qua=model.predict(dau_vao)\n",
    "nhan=labels[ket_qua[0]-1]\n",
    "print('Nội dung của comment thuộc loại: ' + nhan)"
   ]
  },
  {
   "cell_type": "code",
   "execution_count": 36,
   "metadata": {},
   "outputs": [
    {
     "data": {
      "text/plain": [
       "<bound method NDFrame.head of                                              comment                  name  \\\n",
       "0  Rất đa dạng về nghành nghề, trong thời đại 4.0...       Lương Tuấn Diệp   \n",
       "1  Nếu bạn có đam mê với công nghệ – phần mềm, đặ...         Đoàn Văn Khải   \n",
       "2  Hãy đến với Chuyên Ngành Kĩ Thuật Máy Tính-FEE...  Hoàng Thị Yến Thuyên   \n",
       "3                                   Thật tuyệt vời ạ      Nguyễn Linh Linh   \n",
       "4  Bài viết rất hay và hữu ích, giáo viên bên kho...           Lý Thị Thảo   \n",
       "5  Em có câu hỏi mong thầy, cô giải đáp: Trong tư...      Nguyễn Văn Lương   \n",
       "6  Ngành Công nghệ Kỹ thuật Máy tính là ngành phố...           Đỗ Văn Hùng   \n",
       "7  Ngành này học chán lắm, phải rất giỏi toán mới...           Đỗ Văn Hùng   \n",
       "8  Thưa thầy cô. Hiện nay nghành kỹ thuật máy tín...           Đỗ Văn Luân   \n",
       "\n",
       "   Predict  \n",
       "0        1  \n",
       "1        1  \n",
       "2        1  \n",
       "3        1  \n",
       "4        1  \n",
       "5        1  \n",
       "6        1  \n",
       "7        3  \n",
       "8        2  >"
      ]
     },
     "execution_count": 36,
     "metadata": {},
     "output_type": "execute_result"
    }
   ],
   "source": [
    "# Liệt kê tên các bạn comment có nội dung chê trong file  \"comment_thcn2.csv\"\n",
    "# Bước 1: Dùng model đã huấn luyện ở trên để đoán nhãn cho tất cả các comment\n",
    "data_test=pd.read_csv('data_science/comment_thcn2.csv',delimiter='\\t',encoding='utf-8')\n",
    "data_test['Predict']=model.predict(data_test['comment'])\n",
    "data_test.head"
   ]
  },
  {
   "cell_type": "code",
   "execution_count": 41,
   "metadata": {},
   "outputs": [
    {
     "name": "stdout",
     "output_type": "stream",
     "text": [
      "Danh sách các bạn chê ngành\n",
      "\n",
      "<bound method DataFrame.info of                                              comment         name  Predict\n",
      "7  Ngành này học chán lắm, phải rất giỏi toán mới...  Đỗ Văn Hùng        3>\n",
      "Danh sách các bạn khen ngành\n",
      "\n",
      "<bound method DataFrame.info of                                              comment                  name  \\\n",
      "0  Rất đa dạng về nghành nghề, trong thời đại 4.0...       Lương Tuấn Diệp   \n",
      "1  Nếu bạn có đam mê với công nghệ – phần mềm, đặ...         Đoàn Văn Khải   \n",
      "2  Hãy đến với Chuyên Ngành Kĩ Thuật Máy Tính-FEE...  Hoàng Thị Yến Thuyên   \n",
      "3                                   Thật tuyệt vời ạ      Nguyễn Linh Linh   \n",
      "4  Bài viết rất hay và hữu ích, giáo viên bên kho...           Lý Thị Thảo   \n",
      "5  Em có câu hỏi mong thầy, cô giải đáp: Trong tư...      Nguyễn Văn Lương   \n",
      "6  Ngành Công nghệ Kỹ thuật Máy tính là ngành phố...           Đỗ Văn Hùng   \n",
      "\n",
      "   Predict  \n",
      "0        1  \n",
      "1        1  \n",
      "2        1  \n",
      "3        1  \n",
      "4        1  \n",
      "5        1  \n",
      "6        1  >\n",
      "Danh sách các bạn đặt câu hỏi về ngành\n",
      "\n",
      "<bound method DataFrame.info of                                              comment         name  Predict\n",
      "8  Thưa thầy cô. Hiện nay nghành kỹ thuật máy tín...  Đỗ Văn Luân        2>\n"
     ]
    }
   ],
   "source": [
    "#labels=['Khen','Hỏi','Chê']\n",
    "# Liệt kê những bạn chê ngành học\n",
    "Che=data_test[data_test['Predict']==3]\n",
    "print('Danh sách các bạn chê ngành\\n')\n",
    "print(Che.info)\n",
    "# Liệt kê những bạn Khen ngành học\n",
    "Khen=data_test[data_test['Predict']==1]\n",
    "print('Danh sách các bạn khen ngành\\n')\n",
    "print(Khen.info)\n",
    "# Liệt kê những bạn đặt câu hỏi với ngành\n",
    "Hoi=data_test[data_test['Predict']==2]\n",
    "print('Danh sách các bạn đặt câu hỏi về ngành\\n')\n",
    "print(Hoi.info)"
   ]
  }
 ],
 "metadata": {
  "interpreter": {
   "hash": "ef7f9a8012d9131766e31894c279374cc63c73121ed4db3b9e67a294a4bf0e74"
  },
  "kernelspec": {
   "display_name": "Python 3.9.7 ('base')",
   "language": "python",
   "name": "python3"
  },
  "language_info": {
   "codemirror_mode": {
    "name": "ipython",
    "version": 3
   },
   "file_extension": ".py",
   "mimetype": "text/x-python",
   "name": "python",
   "nbconvert_exporter": "python",
   "pygments_lexer": "ipython3",
   "version": "3.9.7"
  },
  "orig_nbformat": 4
 },
 "nbformat": 4,
 "nbformat_minor": 2
}
