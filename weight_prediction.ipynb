{
 "cells": [
  {
   "cell_type": "code",
   "execution_count": 32,
   "metadata": {},
   "outputs": [
    {
     "name": "stdout",
     "output_type": "stream",
     "text": [
      "<class 'pandas.core.frame.DataFrame'>\n",
      "RangeIndex: 33 entries, 0 to 32\n",
      "Data columns (total 5 columns):\n",
      " #   Column  Non-Null Count  Dtype  \n",
      "---  ------  --------------  -----  \n",
      " 0   mssv    33 non-null     object \n",
      " 1   lop     33 non-null     object \n",
      " 2   cao     33 non-null     int64  \n",
      " 3   nang    33 non-null     float64\n",
      " 4   gender  33 non-null     int64  \n",
      "dtypes: float64(1), int64(2), object(2)\n",
      "memory usage: 1.4+ KB\n"
     ]
    },
    {
     "data": {
      "text/html": [
       "<div>\n",
       "<style scoped>\n",
       "    .dataframe tbody tr th:only-of-type {\n",
       "        vertical-align: middle;\n",
       "    }\n",
       "\n",
       "    .dataframe tbody tr th {\n",
       "        vertical-align: top;\n",
       "    }\n",
       "\n",
       "    .dataframe thead th {\n",
       "        text-align: right;\n",
       "    }\n",
       "</style>\n",
       "<table border=\"1\" class=\"dataframe\">\n",
       "  <thead>\n",
       "    <tr style=\"text-align: right;\">\n",
       "      <th></th>\n",
       "      <th>mssv</th>\n",
       "      <th>lop</th>\n",
       "      <th>cao</th>\n",
       "      <th>nang</th>\n",
       "      <th>gender</th>\n",
       "    </tr>\n",
       "  </thead>\n",
       "  <tbody>\n",
       "    <tr>\n",
       "      <th>0</th>\n",
       "      <td>K185480106001</td>\n",
       "      <td>K54KMT.01</td>\n",
       "      <td>165</td>\n",
       "      <td>50.0</td>\n",
       "      <td>1</td>\n",
       "    </tr>\n",
       "    <tr>\n",
       "      <th>1</th>\n",
       "      <td>K185480106002</td>\n",
       "      <td>K54KMT.01</td>\n",
       "      <td>161</td>\n",
       "      <td>47.0</td>\n",
       "      <td>1</td>\n",
       "    </tr>\n",
       "    <tr>\n",
       "      <th>2</th>\n",
       "      <td>K185480106004</td>\n",
       "      <td>K54KMT.01</td>\n",
       "      <td>158</td>\n",
       "      <td>51.0</td>\n",
       "      <td>0</td>\n",
       "    </tr>\n",
       "    <tr>\n",
       "      <th>3</th>\n",
       "      <td>K185480106034</td>\n",
       "      <td>K54KMT.01</td>\n",
       "      <td>171</td>\n",
       "      <td>61.0</td>\n",
       "      <td>1</td>\n",
       "    </tr>\n",
       "    <tr>\n",
       "      <th>4</th>\n",
       "      <td>K185480106035</td>\n",
       "      <td>K54KMT.01</td>\n",
       "      <td>156</td>\n",
       "      <td>48.0</td>\n",
       "      <td>0</td>\n",
       "    </tr>\n",
       "  </tbody>\n",
       "</table>\n",
       "</div>"
      ],
      "text/plain": [
       "            mssv        lop  cao  nang  gender\n",
       "0  K185480106001  K54KMT.01  165  50.0       1\n",
       "1  K185480106002  K54KMT.01  161  47.0       1\n",
       "2  K185480106004  K54KMT.01  158  51.0       0\n",
       "3  K185480106034  K54KMT.01  171  61.0       1\n",
       "4  K185480106035  K54KMT.01  156  48.0       0"
      ]
     },
     "execution_count": 32,
     "metadata": {},
     "output_type": "execute_result"
    }
   ],
   "source": [
    "# Load dữ liệu cận nặng, chiều cao của lớp K54KMT\n",
    "import pandas as pd\n",
    "data=pd.read_csv('data_science/k54kmt_01.csv',sep=';')\n",
    "data.info()\n",
    "data.head()"
   ]
  },
  {
   "cell_type": "markdown",
   "metadata": {},
   "source": [
    "***Xây dựng model đoán chiều cao dựa vào cân nặng***"
   ]
  },
  {
   "cell_type": "code",
   "execution_count": 33,
   "metadata": {},
   "outputs": [
    {
     "name": "stdout",
     "output_type": "stream",
     "text": [
      "kích thước của x-train (33,)\n",
      "kích thước của y-train (33,)\n"
     ]
    }
   ],
   "source": [
    "# tách dữ liệu CHieeuo cao là trục X\n",
    "x_train=data['cao']\n",
    "y_train=data['nang']\n",
    "print('kích thước của x-train',x_train.shape)\n",
    "print('kích thước của y-train',y_train.shape)"
   ]
  },
  {
   "cell_type": "code",
   "execution_count": 34,
   "metadata": {},
   "outputs": [],
   "source": [
    "# khai báo model linear regession (hồi quy tuyến tính)\n",
    "from sklearn.linear_model import LinearRegression as LR\n",
    "model_ski=LR(fit_intercept=True) # Khai bao model tuyến tính có sử dụng hệ số b"
   ]
  },
  {
   "cell_type": "code",
   "execution_count": 35,
   "metadata": {},
   "outputs": [
    {
     "name": "stdout",
     "output_type": "stream",
     "text": [
      "(33, 1)\n"
     ]
    },
    {
     "name": "stderr",
     "output_type": "stream",
     "text": [
      "C:\\Users\\admin\\AppData\\Local\\Temp/ipykernel_19136/2485748102.py:3: FutureWarning: Support for multi-dimensional indexing (e.g. `obj[:, None]`) is deprecated and will be removed in a future version.  Convert to a numpy array before indexing instead.\n",
      "  X_train=x_train[:,np.newaxis]\n"
     ]
    },
    {
     "data": {
      "text/plain": [
       "LinearRegression()"
      ]
     },
     "execution_count": 35,
     "metadata": {},
     "output_type": "execute_result"
    }
   ],
   "source": [
    "# Training (huấn luyện) model => dạy model học cách đoán tương lai từ dữ liệu quá khứ\n",
    "import numpy as np\n",
    "X_train=x_train[:,np.newaxis]\n",
    "print(X_train.shape)\n",
    "model_ski.fit(X_train,y_train)"
   ]
  },
  {
   "cell_type": "code",
   "execution_count": 36,
   "metadata": {},
   "outputs": [
    {
     "name": "stdout",
     "output_type": "stream",
     "text": [
      "a= [0.09444334]\n",
      "b= 43.00119401997751\n"
     ]
    }
   ],
   "source": [
    "print('a=',model_ski.coef_)\n",
    "print('b=',model_ski.intercept_)"
   ]
  },
  {
   "cell_type": "code",
   "execution_count": 37,
   "metadata": {},
   "outputs": [],
   "source": [
    "# Dùng model để đoán\n",
    "#print('Ban có chiều cao bao nhiêu (cm)=')\n",
    "#chieucao=input()\n",
    "#chieucao=int(chieucao)\n",
    "#can=model_ski.predict([[chieucao]])\n",
    "#print(can)"
   ]
  },
  {
   "cell_type": "code",
   "execution_count": 38,
   "metadata": {},
   "outputs": [],
   "source": [
    "# Lọc các dữ liệu nghi ngờ sai\n",
    "du_doan=model_ski.predict(X_train)"
   ]
  },
  {
   "cell_type": "code",
   "execution_count": 39,
   "metadata": {},
   "outputs": [
    {
     "data": {
      "text/plain": [
       "[<matplotlib.lines.Line2D at 0x2cde0aeb070>]"
      ]
     },
     "execution_count": 39,
     "metadata": {},
     "output_type": "execute_result"
    },
    {
     "data": {
      "image/png": "[encoded data removed]",
      "text/plain": [
       "<Figure size 432x288 with 1 Axes>"
      ]
     },
     "metadata": {
      "needs_background": "light"
     },
     "output_type": "display_data"
    }
   ],
   "source": [
    "import matplotlib.pyplot as plt\n",
    "plt.plot(X_train, du_doan,'ro')\n",
    "plt.plot(X_train, y_train,'bo')"
   ]
  },
  {
   "cell_type": "code",
   "execution_count": 43,
   "metadata": {},
   "outputs": [
    {
     "name": "stdout",
     "output_type": "stream",
     "text": [
      "33\n",
      "e= 9.991025008620824\n",
      "y= 0     50.00\n",
      "1     47.00\n",
      "2     51.00\n",
      "3     61.00\n",
      "4     48.00\n",
      "5     58.00\n",
      "6     62.00\n",
      "7     60.00\n",
      "8     80.00\n",
      "9     57.00\n",
      "10    58.00\n",
      "11    47.00\n",
      "12    52.00\n",
      "13    44.00\n",
      "14    62.00\n",
      "15    69.95\n",
      "16    80.00\n",
      "17    45.00\n",
      "18    45.00\n",
      "19    60.00\n",
      "20    56.00\n",
      "21    57.00\n",
      "22    55.00\n",
      "23    52.00\n",
      "24    80.00\n",
      "25    61.00\n",
      "26    55.00\n",
      "27    70.00\n",
      "28    65.00\n",
      "29    73.00\n",
      "30    48.00\n",
      "31    65.00\n",
      "32    65.00\n",
      "Name: nang, dtype: float64\n",
      "du_doan= [58.58434544 58.20657207 57.92324205 59.15100549 57.73435536 58.86767546\n",
      " 60.47321228 59.24544883 59.05656215 58.39545876 59.43433552 58.4899021\n",
      " 58.11212873 58.11212873 59.05656215 54.80661176 56.97880863 57.92324205\n",
      " 58.11212873 60.94542899 58.58434544 59.52877886 59.24544883 59.05656215\n",
      " 60.00099557 59.81210888 58.86767546 58.77323212 60.94542899 59.05656215\n",
      " 58.39545876 58.96211881 58.11212873]\n"
     ]
    }
   ],
   "source": [
    "# tim sai số trung bình của mô  hình\n",
    "error=(y_train-du_doan)**2\n",
    "n=error.shape[0]\n",
    "print(n)\n",
    "error=np.sqrt(error.sum()/n)\n",
    "print('e=',error)\n",
    "print('y=',y_train)\n",
    "print('du_doan=',du_doan)"
   ]
  },
  {
   "cell_type": "code",
   "execution_count": 45,
   "metadata": {},
   "outputs": [
    {
     "data": {
      "text/html": [
       "<div>\n",
       "<style scoped>\n",
       "    .dataframe tbody tr th:only-of-type {\n",
       "        vertical-align: middle;\n",
       "    }\n",
       "\n",
       "    .dataframe tbody tr th {\n",
       "        vertical-align: top;\n",
       "    }\n",
       "\n",
       "    .dataframe thead th {\n",
       "        text-align: right;\n",
       "    }\n",
       "</style>\n",
       "<table border=\"1\" class=\"dataframe\">\n",
       "  <thead>\n",
       "    <tr style=\"text-align: right;\">\n",
       "      <th></th>\n",
       "      <th>mssv</th>\n",
       "      <th>lop</th>\n",
       "      <th>cao</th>\n",
       "      <th>nang</th>\n",
       "      <th>gender</th>\n",
       "      <th>do_lech_so_voi_model</th>\n",
       "    </tr>\n",
       "  </thead>\n",
       "  <tbody>\n",
       "    <tr>\n",
       "      <th>0</th>\n",
       "      <td>K185480106001</td>\n",
       "      <td>K54KMT.01</td>\n",
       "      <td>165</td>\n",
       "      <td>50.0</td>\n",
       "      <td>1</td>\n",
       "      <td>8.584345</td>\n",
       "    </tr>\n",
       "    <tr>\n",
       "      <th>1</th>\n",
       "      <td>K185480106002</td>\n",
       "      <td>K54KMT.01</td>\n",
       "      <td>161</td>\n",
       "      <td>47.0</td>\n",
       "      <td>1</td>\n",
       "      <td>11.206572</td>\n",
       "    </tr>\n",
       "    <tr>\n",
       "      <th>2</th>\n",
       "      <td>K185480106004</td>\n",
       "      <td>K54KMT.01</td>\n",
       "      <td>158</td>\n",
       "      <td>51.0</td>\n",
       "      <td>0</td>\n",
       "      <td>6.923242</td>\n",
       "    </tr>\n",
       "    <tr>\n",
       "      <th>3</th>\n",
       "      <td>K185480106034</td>\n",
       "      <td>K54KMT.01</td>\n",
       "      <td>171</td>\n",
       "      <td>61.0</td>\n",
       "      <td>1</td>\n",
       "      <td>1.848995</td>\n",
       "    </tr>\n",
       "    <tr>\n",
       "      <th>4</th>\n",
       "      <td>K185480106035</td>\n",
       "      <td>K54KMT.01</td>\n",
       "      <td>156</td>\n",
       "      <td>48.0</td>\n",
       "      <td>0</td>\n",
       "      <td>9.734355</td>\n",
       "    </tr>\n",
       "  </tbody>\n",
       "</table>\n",
       "</div>"
      ],
      "text/plain": [
       "            mssv        lop  cao  nang  gender  do_lech_so_voi_model\n",
       "0  K185480106001  K54KMT.01  165  50.0       1              8.584345\n",
       "1  K185480106002  K54KMT.01  161  47.0       1             11.206572\n",
       "2  K185480106004  K54KMT.01  158  51.0       0              6.923242\n",
       "3  K185480106034  K54KMT.01  171  61.0       1              1.848995\n",
       "4  K185480106035  K54KMT.01  156  48.0       0              9.734355"
      ]
     },
     "execution_count": 45,
     "metadata": {},
     "output_type": "execute_result"
    }
   ],
   "source": [
    "data['do_lech_so_voi_model']=np.abs(data['nang']-du_doan)\n",
    "data.head()"
   ]
  },
  {
   "cell_type": "code",
   "execution_count": 47,
   "metadata": {},
   "outputs": [
    {
     "name": "stdout",
     "output_type": "stream",
     "text": [
      "             mssv        lop  cao   nang  gender  do_lech_so_voi_model\n",
      "8   K185480106008  K54KMT.01  170  80.00       1             20.943438\n",
      "15  K185480106012  K54KMT.01  125  69.95       0             15.143388\n",
      "16  K185480106038  K54KMT.01  148  80.00       1             23.021191\n",
      "24  K185480106043  K54KMT.01  180  80.00       0             19.999004\n"
     ]
    }
   ],
   "source": [
    "nguong=1.5*error\n",
    "nhung_ban_nghi_ngo=data[data['do_lech_so_voi_model']>nguong]\n",
    "print(nhung_ban_nghi_ngo)"
   ]
  }
 ],
 "metadata": {
  "interpreter": {
   "hash": "ef7f9a8012d9131766e31894c279374cc63c73121ed4db3b9e67a294a4bf0e74"
  },
  "kernelspec": {
   "display_name": "Python 3.9.7 ('base')",
   "language": "python",
   "name": "python3"
  },
  "language_info": {
   "codemirror_mode": {
    "name": "ipython",
    "version": 3
   },
   "file_extension": ".py",
   "mimetype": "text/x-python",
   "name": "python",
   "nbconvert_exporter": "python",
   "pygments_lexer": "ipython3",
   "version": "3.9.7"
  },
  "orig_nbformat": 4
 },
 "nbformat": 4,
 "nbformat_minor": 2
}
