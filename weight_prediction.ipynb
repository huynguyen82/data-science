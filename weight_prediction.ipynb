{
 "cells": [
  {
   "cell_type": "code",
   "execution_count": 6,
   "metadata": {},
   "outputs": [
    {
     "name": "stdout",
     "output_type": "stream",
     "text": [
      "<class 'pandas.core.frame.DataFrame'>\n",
      "RangeIndex: 33 entries, 0 to 32\n",
      "Data columns (total 5 columns):\n",
      " #   Column  Non-Null Count  Dtype  \n",
      "---  ------  --------------  -----  \n",
      " 0   mssv    33 non-null     object \n",
      " 1   lop     33 non-null     object \n",
      " 2   cao     33 non-null     int64  \n",
      " 3   nang    33 non-null     float64\n",
      " 4   gender  33 non-null     int64  \n",
      "dtypes: float64(1), int64(2), object(2)\n",
      "memory usage: 1.4+ KB\n"
     ]
    },
    {
     "data": {
      "text/html": [
       "<div>\n",
       "<style scoped>\n",
       "    .dataframe tbody tr th:only-of-type {\n",
       "        vertical-align: middle;\n",
       "    }\n",
       "\n",
       "    .dataframe tbody tr th {\n",
       "        vertical-align: top;\n",
       "    }\n",
       "\n",
       "    .dataframe thead th {\n",
       "        text-align: right;\n",
       "    }\n",
       "</style>\n",
       "<table border=\"1\" class=\"dataframe\">\n",
       "  <thead>\n",
       "    <tr style=\"text-align: right;\">\n",
       "      <th></th>\n",
       "      <th>mssv</th>\n",
       "      <th>lop</th>\n",
       "      <th>cao</th>\n",
       "      <th>nang</th>\n",
       "      <th>gender</th>\n",
       "    </tr>\n",
       "  </thead>\n",
       "  <tbody>\n",
       "    <tr>\n",
       "      <th>0</th>\n",
       "      <td>K185480106001</td>\n",
       "      <td>K54KMT.01</td>\n",
       "      <td>165</td>\n",
       "      <td>50.0</td>\n",
       "      <td>1</td>\n",
       "    </tr>\n",
       "    <tr>\n",
       "      <th>1</th>\n",
       "      <td>K185480106002</td>\n",
       "      <td>K54KMT.01</td>\n",
       "      <td>161</td>\n",
       "      <td>47.0</td>\n",
       "      <td>1</td>\n",
       "    </tr>\n",
       "    <tr>\n",
       "      <th>2</th>\n",
       "      <td>K185480106004</td>\n",
       "      <td>K54KMT.01</td>\n",
       "      <td>158</td>\n",
       "      <td>51.0</td>\n",
       "      <td>0</td>\n",
       "    </tr>\n",
       "    <tr>\n",
       "      <th>3</th>\n",
       "      <td>K185480106034</td>\n",
       "      <td>K54KMT.01</td>\n",
       "      <td>171</td>\n",
       "      <td>61.0</td>\n",
       "      <td>1</td>\n",
       "    </tr>\n",
       "    <tr>\n",
       "      <th>4</th>\n",
       "      <td>K185480106035</td>\n",
       "      <td>K54KMT.01</td>\n",
       "      <td>156</td>\n",
       "      <td>48.0</td>\n",
       "      <td>0</td>\n",
       "    </tr>\n",
       "  </tbody>\n",
       "</table>\n",
       "</div>"
      ],
      "text/plain": [
       "            mssv        lop  cao  nang  gender\n",
       "0  K185480106001  K54KMT.01  165  50.0       1\n",
       "1  K185480106002  K54KMT.01  161  47.0       1\n",
       "2  K185480106004  K54KMT.01  158  51.0       0\n",
       "3  K185480106034  K54KMT.01  171  61.0       1\n",
       "4  K185480106035  K54KMT.01  156  48.0       0"
      ]
     },
     "execution_count": 6,
     "metadata": {},
     "output_type": "execute_result"
    }
   ],
   "source": [
    "# Load dữ liệu cận nặng, chiều cao của lớp K54KMT\n",
    "import pandas as pd\n",
    "data=pd.read_csv('data_science/k54kmt_01.csv',sep=';')\n",
    "data.info()\n",
    "data.head()"
   ]
  },
  {
   "cell_type": "markdown",
   "metadata": {},
   "source": [
    "***Xây dựng model đoán chiều cao dựa vào cân nặng***"
   ]
  },
  {
   "cell_type": "code",
   "execution_count": 9,
   "metadata": {},
   "outputs": [
    {
     "name": "stdout",
     "output_type": "stream",
     "text": [
      "kích thước của x-train (33,)\n",
      "kích thước của y-train (33,)\n"
     ]
    }
   ],
   "source": [
    "# tách dữ liệu CHieeuo cao là trục X\n",
    "x_train=data['cao']\n",
    "y_train=data['nang']\n",
    "print('kích thước của x-train',x_train.shape)\n",
    "print('kích thước của y-train',y_train.shape)"
   ]
  },
  {
   "cell_type": "code",
   "execution_count": 10,
   "metadata": {},
   "outputs": [],
   "source": [
    "# khai báo model linear regession (hồi quy tuyến tính)\n",
    "from sklearn.linear_model import LinearRegression as LR\n",
    "model_ski=LR(fit_intercept=True) # Khai bao model tuyến tính có sử dụng hệ số b"
   ]
  },
  {
   "cell_type": "code",
   "execution_count": 18,
   "metadata": {},
   "outputs": [
    {
     "name": "stdout",
     "output_type": "stream",
     "text": [
      "(33, 1)\n"
     ]
    },
    {
     "name": "stderr",
     "output_type": "stream",
     "text": [
      "C:\\Users\\admin\\AppData\\Local\\Temp/ipykernel_19136/2485748102.py:3: FutureWarning: Support for multi-dimensional indexing (e.g. `obj[:, None]`) is deprecated and will be removed in a future version.  Convert to a numpy array before indexing instead.\n",
      "  X_train=x_train[:,np.newaxis]\n"
     ]
    },
    {
     "data": {
      "text/plain": [
       "LinearRegression()"
      ]
     },
     "execution_count": 18,
     "metadata": {},
     "output_type": "execute_result"
    }
   ],
   "source": [
    "# Training (huấn luyện) model => dạy model học cách đoán tương lai từ dữ liệu quá khứ\n",
    "import numpy as np\n",
    "X_train=x_train[:,np.newaxis]\n",
    "print(X_train.shape)\n",
    "model_ski.fit(X_train,y_train)"
   ]
  },
  {
   "cell_type": "code",
   "execution_count": 20,
   "metadata": {},
   "outputs": [
    {
     "name": "stdout",
     "output_type": "stream",
     "text": [
      "a= [0.09444334]\n",
      "b= 43.00119401997751\n"
     ]
    }
   ],
   "source": [
    "print('a=',model_ski.coef_)\n",
    "print('b=',model_ski.intercept_)"
   ]
  },
  {
   "cell_type": "code",
   "execution_count": 23,
   "metadata": {},
   "outputs": [
    {
     "name": "stdout",
     "output_type": "stream",
     "text": [
      "Ban có chiều cao bao nhiêu (cm)=\n",
      "[58.86767546]\n"
     ]
    }
   ],
   "source": [
    "# Dùng model để đoán\n",
    "print('Ban có chiều cao bao nhiêu (cm)=')\n",
    "chieucao=input()\n",
    "chieucao=int(chieucao)\n",
    "can=model_ski.predict([[chieucao]])\n",
    "print(can)"
   ]
  }
 ],
 "metadata": {
  "interpreter": {
   "hash": "ef7f9a8012d9131766e31894c279374cc63c73121ed4db3b9e67a294a4bf0e74"
  },
  "kernelspec": {
   "display_name": "Python 3.9.7 ('base')",
   "language": "python",
   "name": "python3"
  },
  "language_info": {
   "codemirror_mode": {
    "name": "ipython",
    "version": 3
   },
   "file_extension": ".py",
   "mimetype": "text/x-python",
   "name": "python",
   "nbconvert_exporter": "python",
   "pygments_lexer": "ipython3",
   "version": "3.9.7"
  },
  "orig_nbformat": 4
 },
 "nbformat": 4,
 "nbformat_minor": 2
}
