{
 "cells": [
  {
   "cell_type": "code",
   "execution_count": 1,
   "metadata": {},
   "outputs": [
    {
     "name": "stdout",
     "output_type": "stream",
     "text": [
      "<class 'pandas.core.frame.DataFrame'>\n",
      "RangeIndex: 33 entries, 0 to 32\n",
      "Data columns (total 5 columns):\n",
      " #   Column  Non-Null Count  Dtype  \n",
      "---  ------  --------------  -----  \n",
      " 0   mssv    33 non-null     object \n",
      " 1   lop     33 non-null     object \n",
      " 2   cao     33 non-null     int64  \n",
      " 3   nang    33 non-null     float64\n",
      " 4   gender  33 non-null     int64  \n",
      "dtypes: float64(1), int64(2), object(2)\n",
      "memory usage: 1.4+ KB\n"
     ]
    },
    {
     "data": {
      "text/html": [
       "<div>\n",
       "<style scoped>\n",
       "    .dataframe tbody tr th:only-of-type {\n",
       "        vertical-align: middle;\n",
       "    }\n",
       "\n",
       "    .dataframe tbody tr th {\n",
       "        vertical-align: top;\n",
       "    }\n",
       "\n",
       "    .dataframe thead th {\n",
       "        text-align: right;\n",
       "    }\n",
       "</style>\n",
       "<table border=\"1\" class=\"dataframe\">\n",
       "  <thead>\n",
       "    <tr style=\"text-align: right;\">\n",
       "      <th></th>\n",
       "      <th>mssv</th>\n",
       "      <th>lop</th>\n",
       "      <th>cao</th>\n",
       "      <th>nang</th>\n",
       "      <th>gender</th>\n",
       "    </tr>\n",
       "  </thead>\n",
       "  <tbody>\n",
       "    <tr>\n",
       "      <th>0</th>\n",
       "      <td>K185480106001</td>\n",
       "      <td>K54KMT.01</td>\n",
       "      <td>165</td>\n",
       "      <td>50.0</td>\n",
       "      <td>1</td>\n",
       "    </tr>\n",
       "    <tr>\n",
       "      <th>1</th>\n",
       "      <td>K185480106002</td>\n",
       "      <td>K54KMT.01</td>\n",
       "      <td>161</td>\n",
       "      <td>47.0</td>\n",
       "      <td>1</td>\n",
       "    </tr>\n",
       "    <tr>\n",
       "      <th>2</th>\n",
       "      <td>K185480106004</td>\n",
       "      <td>K54KMT.01</td>\n",
       "      <td>158</td>\n",
       "      <td>51.0</td>\n",
       "      <td>0</td>\n",
       "    </tr>\n",
       "    <tr>\n",
       "      <th>3</th>\n",
       "      <td>K185480106034</td>\n",
       "      <td>K54KMT.01</td>\n",
       "      <td>171</td>\n",
       "      <td>61.0</td>\n",
       "      <td>1</td>\n",
       "    </tr>\n",
       "    <tr>\n",
       "      <th>4</th>\n",
       "      <td>K185480106035</td>\n",
       "      <td>K54KMT.01</td>\n",
       "      <td>156</td>\n",
       "      <td>48.0</td>\n",
       "      <td>0</td>\n",
       "    </tr>\n",
       "  </tbody>\n",
       "</table>\n",
       "</div>"
      ],
      "text/plain": [
       "            mssv        lop  cao  nang  gender\n",
       "0  K185480106001  K54KMT.01  165  50.0       1\n",
       "1  K185480106002  K54KMT.01  161  47.0       1\n",
       "2  K185480106004  K54KMT.01  158  51.0       0\n",
       "3  K185480106034  K54KMT.01  171  61.0       1\n",
       "4  K185480106035  K54KMT.01  156  48.0       0"
      ]
     },
     "execution_count": 1,
     "metadata": {},
     "output_type": "execute_result"
    }
   ],
   "source": [
    "# Load dữ liệu cận nặng, chiều cao của lớp K54KMT\n",
    "import pandas as pd\n",
    "data=pd.read_csv('data_science/k54kmt_01.csv',sep=';')\n",
    "data.info()\n",
    "data.head()"
   ]
  },
  {
   "cell_type": "code",
   "execution_count": 2,
   "metadata": {},
   "outputs": [
    {
     "data": {
      "text/plain": [
       "<matplotlib.collections.PathCollection at 0x1fd338beee0>"
      ]
     },
     "execution_count": 2,
     "metadata": {},
     "output_type": "execute_result"
    },
    {
     "data": {
      "image/png": "[encoded data removed]",
      "text/plain": [
       "<Figure size 432x288 with 1 Axes>"
      ]
     },
     "metadata": {
      "needs_background": "light"
     },
     "output_type": "display_data"
    }
   ],
   "source": [
    "import matplotlib.pyplot as plt\n",
    "# nam\n",
    "nam=data[data['gender']==1]\n",
    "nu=data[data['gender']==0]\n",
    "plt.scatter(nam[['cao']],nam[['nang']],marker='*')\n",
    "plt.scatter(nu[['cao']],nu[['nang']],marker='^')"
   ]
  },
  {
   "cell_type": "code",
   "execution_count": 3,
   "metadata": {},
   "outputs": [],
   "source": [
    "# X=features=[chiều cao, cân nặng]\n",
    "X_train=data[['cao','nang']]\n",
    "# Y= nam/nữ=1/0\n",
    "y_train=data['gender']"
   ]
  },
  {
   "cell_type": "code",
   "execution_count": 4,
   "metadata": {},
   "outputs": [
    {
     "data": {
      "text/plain": [
       "GaussianNB()"
      ]
     },
     "execution_count": 4,
     "metadata": {},
     "output_type": "execute_result"
    }
   ],
   "source": [
    "from sklearn.naive_bayes import GaussianNB as gau\n",
    "model = gau()\n",
    "model.fit(X_train,y_train)"
   ]
  },
  {
   "cell_type": "code",
   "execution_count": 6,
   "metadata": {},
   "outputs": [
    {
     "name": "stdout",
     "output_type": "stream",
     "text": [
      "             mssv        lop  cao   nang  gender\n",
      "0   K185480106001  K54KMT.01  165  50.00       1\n",
      "1   K185480106002  K54KMT.01  161  47.00       1\n",
      "2   K185480106004  K54KMT.01  158  51.00       0\n",
      "3   K185480106034  K54KMT.01  171  61.00       1\n",
      "4   K185480106035  K54KMT.01  156  48.00       0\n",
      "5   K185480106033  K54KMT.01  168  58.00       1\n",
      "6   K185480106005  K54KMT.01  185  62.00       0\n",
      "7   K185480106007  K54KMT.01  172  60.00       1\n",
      "8   K185480106008  K54KMT.01  170  80.00       1\n",
      "9   K185480106006  K54KMT.01  163  57.00       0\n",
      "10  K185480106036  K54KMT.01  174  58.00       1\n",
      "11  K185480106009  K54KMT.01  164  47.00       0\n",
      "12  K185480106010  K54KMT.01  160  52.00       1\n",
      "13  K185480106044  K54KMT.01  160  44.00       1\n",
      "14  K185480106037  K54KMT.01  170  62.00       1\n",
      "15  K185480106012  K54KMT.01  125  69.95       0\n",
      "16  K185480106038  K54KMT.01  148  80.00       1\n",
      "17  K185480106016  K54KMT.01  158  45.00       0\n",
      "18  K185480106014  K54KMT.01  160  45.00       1\n",
      "19  K185480106015  K54KMT.01  190  60.00       0\n",
      "20  K185480106039  K54KMT.01  165  56.00       1\n",
      "21  K185480106018  K54KMT.01  175  57.00       1\n",
      "22  K185480106019  K54KMT.01  172  55.00       1\n",
      "23  K185480106023  K54KMT.01  170  52.00       1\n",
      "24  K185480106043  K54KMT.01  180  80.00       0\n",
      "25  K185480106022  K54KMT.01  178  61.00       1\n",
      "26  K185480106041  K54KMT.01  168  55.00       1\n",
      "27  K185480106024  K54KMT.01  167  70.00       1\n",
      "28  K185480106029  K54KMT.01  190  65.00       1\n",
      "29  K185520103229  K54KMT.01  170  73.00       1\n",
      "30  K185520201027  K54KMT.01  163  48.00       1\n",
      "31  K185480106048  K54KMT.01  169  65.00       1\n",
      "32  K185520216125  K54KMT.01  160  65.00       1\n"
     ]
    }
   ],
   "source": [
    "print(data)"
   ]
  },
  {
   "cell_type": "code",
   "execution_count": 8,
   "metadata": {},
   "outputs": [
    {
     "name": "stdout",
     "output_type": "stream",
     "text": [
      "[1 1 1 1 1 1 1 1 1 1 1 1 1 1 1 0 0 1 1 0 1 1 1 1 1 1 1 1 0 1 1 1 1]\n"
     ]
    }
   ],
   "source": [
    "du_doan=model.predict(X_train)\n",
    "print(du_doan)\n",
    "nu=du_doan==0"
   ]
  }
 ],
 "metadata": {
  "interpreter": {
   "hash": "ef7f9a8012d9131766e31894c279374cc63c73121ed4db3b9e67a294a4bf0e74"
  },
  "kernelspec": {
   "display_name": "Python 3.9.7 ('base')",
   "language": "python",
   "name": "python3"
  },
  "language_info": {
   "codemirror_mode": {
    "name": "ipython",
    "version": 3
   },
   "file_extension": ".py",
   "mimetype": "text/x-python",
   "name": "python",
   "nbconvert_exporter": "python",
   "pygments_lexer": "ipython3",
   "version": "3.9.7"
  },
  "orig_nbformat": 4
 },
 "nbformat": 4,
 "nbformat_minor": 2
}
